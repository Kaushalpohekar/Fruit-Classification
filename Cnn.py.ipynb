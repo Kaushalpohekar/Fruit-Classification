{
 "cells": [
  {
   "cell_type": "code",
   "execution_count": 1,
   "id": "58a27b80",
   "metadata": {},
   "outputs": [],
   "source": [
    "#Importing keras libraries and packages\n",
    "#importing tenserflow\n",
    "import tensorflow as tf\n",
    "from keras.models import Sequential\n",
    "from keras.layers import Convolution2D\n",
    "from keras.layers import Flatten\n",
    "from keras.layers import Dense\n",
    "from keras.layers import MaxPooling2D\n",
    "from PIL import Image"
   ]
  },
  {
   "cell_type": "code",
   "execution_count": 2,
   "id": "9b3bd36f",
   "metadata": {},
   "outputs": [],
   "source": [
    "#step1 Initializing CNN\n",
    "classifier = Sequential()"
   ]
  },
  {
   "cell_type": "code",
   "execution_count": 3,
   "id": "0428ff99",
   "metadata": {},
   "outputs": [],
   "source": [
    "# step2 adding 1st Convolution layer and Pooling layer\n",
    "classifier.add(Convolution2D(32,(3,3),input_shape = (64,64,3), activation = 'relu'))\n",
    "classifier.add(MaxPooling2D(pool_size = (2, 2)))"
   ]
  },
  {
   "cell_type": "code",
   "execution_count": 4,
   "id": "1ab1d996",
   "metadata": {},
   "outputs": [],
   "source": [
    "# step3 adding 2nd convolution layer and polling layer\n",
    "classifier.add(Convolution2D(32,(3,3), activation = 'relu'))\n",
    "classifier.add(MaxPooling2D(pool_size = (2, 2)))"
   ]
  },
  {
   "cell_type": "code",
   "execution_count": 5,
   "id": "d91c50e5",
   "metadata": {},
   "outputs": [],
   "source": [
    "#step4 Flattening the layers\n",
    "classifier.add(Flatten())"
   ]
  },
  {
   "cell_type": "code",
   "execution_count": 6,
   "id": "0771e93d",
   "metadata": {},
   "outputs": [],
   "source": [
    "#step5 Full_Connection\n",
    "#using Hidden layers\n",
    "classifier.add(Dense(units=32,activation = 'relu'))\n",
    "classifier.add(Dense(units=64,activation = 'relu'))\n",
    "classifier.add(Dense(units=6,activation = 'softmax'))"
   ]
  },
  {
   "cell_type": "code",
   "execution_count": 7,
   "id": "a0b703b6",
   "metadata": {},
   "outputs": [],
   "source": [
    "#step6 Compiling CNN i.e findind optimizes, loss and accuracy\n",
    "classifier.compile(optimizer = 'adam', loss = 'categorical_crossentropy', metrics = ['accuracy'])"
   ]
  },
  {
   "cell_type": "code",
   "execution_count": 8,
   "id": "3582192b",
   "metadata": {},
   "outputs": [
    {
     "name": "stdout",
     "output_type": "stream",
     "text": [
      "\n",
      "Training the data...\n",
      "\n"
     ]
    }
   ],
   "source": [
    "#step7 Fitting CNN to images\n",
    "\n",
    "from keras.preprocessing.image import ImageDataGenerator\n",
    "\n",
    "train_datagen = ImageDataGenerator(rescale = 1./255, # To rescaling the image in range of [0,1]\n",
    "                                   shear_range = 0.2, # To randomly shear the images \n",
    "                                   zoom_range = 0.2, # To randomly zoom the images\n",
    "                                   horizontal_flip = True) #  for randomly flipping half of the images horizontally \n",
    "\n",
    "test_datagen = ImageDataGenerator(rescale = 1./255)"
   ]
  },
  {
   "cell_type": "code",
   "execution_count": 9,
   "id": "0ecbfac1",
   "metadata": {},
   "outputs": [
    {
     "name": "stdout",
     "output_type": "stream",
     "text": [
      "Found 1212 images belonging to 6 classes.\n"
     ]
    }
   ],
   "source": [
    "#creating a training set\n",
    "training_set = train_datagen.flow_from_directory('images/train',\n",
    "                                                target_size=(64,64),\n",
    "                                                batch_size=12, #Total no. of batches\n",
    "                                                class_mode='categorical')\n"
   ]
  },
  {
   "cell_type": "code",
   "execution_count": 10,
   "id": "28a527c6",
   "metadata": {},
   "outputs": [
    {
     "name": "stdout",
     "output_type": "stream",
     "text": [
      "Found 300 images belonging to 6 classes.\n"
     ]
    }
   ],
   "source": [
    "#creating a testing set\n",
    "test_set = test_datagen.flow_from_directory('images/test',\n",
    "                                            target_size=(64,64),\n",
    "                                            batch_size=12,\n",
    "                                            class_mode='categorical')"
   ]
  },
  {
   "cell_type": "code",
   "execution_count": null,
   "id": "c26b1786",
   "metadata": {
    "scrolled": true
   },
   "outputs": [
    {
     "name": "stderr",
     "output_type": "stream",
     "text": [
      "C:\\Users\\User\\AppData\\Local\\Temp/ipykernel_3560/282692759.py:1: UserWarning: `Model.fit_generator` is deprecated and will be removed in a future version. Please use `Model.fit`, which supports generators.\n",
      "  classifier.fit_generator(training_set,\n"
     ]
    },
    {
     "name": "stdout",
     "output_type": "stream",
     "text": [
      "Epoch 1/20\n",
      "100/100 [==============================] - ETA: 0s - loss: 0.1718 - accuracy: 0.9417WARNING:tensorflow:Your input ran out of data; interrupting training. Make sure that your dataset or generator can generate at least `steps_per_epoch * epochs` batches (in this case, 100 batches). You may need to use the repeat() function when building your dataset.\n",
      "100/100 [==============================] - 36s 355ms/step - loss: 0.1718 - accuracy: 0.9417 - val_loss: 0.2074 - val_accuracy: 0.9300\n",
      "Epoch 2/20\n",
      "100/100 [==============================] - 36s 359ms/step - loss: 0.1580 - accuracy: 0.9333\n",
      "Epoch 3/20\n",
      "100/100 [==============================] - 33s 325ms/step - loss: 0.1452 - accuracy: 0.9450\n",
      "Epoch 4/20\n",
      "100/100 [==============================] - 31s 303ms/step - loss: 0.1902 - accuracy: 0.9275\n",
      "Epoch 5/20\n",
      "100/100 [==============================] - 31s 308ms/step - loss: 0.1147 - accuracy: 0.9617\n",
      "Epoch 6/20\n",
      "100/100 [==============================] - 31s 303ms/step - loss: 0.1323 - accuracy: 0.9517\n",
      "Epoch 7/20\n",
      "100/100 [==============================] - 32s 312ms/step - loss: 0.1642 - accuracy: 0.9417\n",
      "Epoch 8/20\n",
      "100/100 [==============================] - 34s 335ms/step - loss: 0.1054 - accuracy: 0.9658\n",
      "Epoch 9/20\n",
      "100/100 [==============================] - 31s 307ms/step - loss: 0.1070 - accuracy: 0.9625\n",
      "Epoch 10/20\n",
      "100/100 [==============================] - 31s 308ms/step - loss: 0.0741 - accuracy: 0.9700\n",
      "Epoch 11/20\n",
      "100/100 [==============================] - 32s 320ms/step - loss: 0.2050 - accuracy: 0.9192\n",
      "Epoch 12/20\n",
      "100/100 [==============================] - 32s 314ms/step - loss: 0.0830 - accuracy: 0.9717\n",
      "Epoch 13/20\n",
      "100/100 [==============================] - 31s 312ms/step - loss: 0.0902 - accuracy: 0.9667\n",
      "Epoch 14/20\n",
      "100/100 [==============================] - 32s 313ms/step - loss: 0.1047 - accuracy: 0.9600\n",
      "Epoch 15/20\n",
      "100/100 [==============================] - 32s 321ms/step - loss: 0.0952 - accuracy: 0.9692\n",
      "Epoch 16/20\n",
      "100/100 [==============================] - 32s 320ms/step - loss: 0.0925 - accuracy: 0.9625\n",
      "Epoch 17/20\n",
      "100/100 [==============================] - 32s 318ms/step - loss: 0.0661 - accuracy: 0.9758\n",
      "Epoch 18/20\n",
      "100/100 [==============================] - 33s 326ms/step - loss: 0.0885 - accuracy: 0.9708\n",
      "Epoch 19/20\n",
      "100/100 [==============================] - 32s 318ms/step - loss: 0.1111 - accuracy: 0.9650\n",
      "Epoch 20/20\n",
      "  7/100 [=>............................] - ETA: 35s - loss: 0.0690 - accuracy: 0.9881"
     ]
    }
   ],
   "source": [
    "#fitting our CNN model\n",
    "classifier.fit_generator(training_set,\n",
    "                         steps_per_epoch=100, # Total training images\n",
    "                         epochs = 20, # Total no. of epochs\n",
    "                         validation_data = test_set,\n",
    "                         validation_steps = 100) # Total testing images"
   ]
  },
  {
   "cell_type": "code",
   "execution_count": null,
   "id": "d5d2eac1",
   "metadata": {},
   "outputs": [],
   "source": [
    "#saving Our Model by .h5 file\n",
    "classifier.save(\"model.h5\")"
   ]
  },
  {
   "cell_type": "code",
   "execution_count": null,
   "id": "0253f841",
   "metadata": {},
   "outputs": [],
   "source": []
  }
 ],
 "metadata": {
  "kernelspec": {
   "display_name": "Python 3 (ipykernel)",
   "language": "python",
   "name": "python3"
  },
  "language_info": {
   "codemirror_mode": {
    "name": "ipython",
    "version": 3
   },
   "file_extension": ".py",
   "mimetype": "text/x-python",
   "name": "python",
   "nbconvert_exporter": "python",
   "pygments_lexer": "ipython3",
   "version": "3.9.7"
  }
 },
 "nbformat": 4,
 "nbformat_minor": 5
}
